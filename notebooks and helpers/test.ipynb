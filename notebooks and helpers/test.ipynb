{
 "cells": [
  {
   "cell_type": "code",
   "execution_count": 1,
   "metadata": {},
   "outputs": [
    {
     "name": "stderr",
     "output_type": "stream",
     "text": [
      "/home/abhyuday/miniconda3/lib/python3.12/site-packages/tqdm/auto.py:21: TqdmWarning: IProgress not found. Please update jupyter and ipywidgets. See https://ipywidgets.readthedocs.io/en/stable/user_install.html\n",
      "  from .autonotebook import tqdm as notebook_tqdm\n"
     ]
    }
   ],
   "source": [
    "import torch\n",
    "from transformers import AutoModelForSeq2SeqLM, BitsAndBytesConfig\n",
    "from IndicTransTokenizer import IndicProcessor, IndicTransTokenizer\n",
    "\n",
    "BATCH_SIZE = 4\n",
    "DEVICE = \"cuda\" if torch.cuda.is_available() else \"cpu\"\n",
    "quantization = \"4-bit\""
   ]
  },
  {
   "cell_type": "code",
   "execution_count": 2,
   "metadata": {},
   "outputs": [],
   "source": [
    "def initialize_model_and_tokenizer(ckpt_dir, direction, quantization):\n",
    "    if quantization == \"4-bit\":\n",
    "        qconfig = BitsAndBytesConfig(\n",
    "            load_in_4bit=True,\n",
    "            bnb_4bit_use_double_quant=True,\n",
    "            bnb_4bit_compute_dtype=torch.bfloat16,\n",
    "        )\n",
    "    elif quantization == \"8-bit\":\n",
    "        qconfig = BitsAndBytesConfig(\n",
    "            load_in_8bit=True,\n",
    "            bnb_8bit_use_double_quant=True,\n",
    "            bnb_8bit_compute_dtype=torch.bfloat16,\n",
    "        )\n",
    "    else:\n",
    "        qconfig = None\n",
    "\n",
    "    tokenizer = IndicTransTokenizer(direction=direction)\n",
    "    model = AutoModelForSeq2SeqLM.from_pretrained(\n",
    "        ckpt_dir,\n",
    "        trust_remote_code=True,\n",
    "        low_cpu_mem_usage=True,\n",
    "        quantization_config=qconfig,\n",
    "    )\n",
    "\n",
    "    if qconfig == None:\n",
    "        model = model.to(DEVICE)\n",
    "        if DEVICE == \"cuda\":\n",
    "            model.half()\n",
    "\n",
    "    model.eval()\n",
    "\n",
    "    return tokenizer, model\n",
    "\n",
    "\n",
    "def batch_translate(input_sentences, src_lang, tgt_lang, model, tokenizer, ip):\n",
    "    translations = []\n",
    "    for i in range(0, len(input_sentences), BATCH_SIZE):\n",
    "        batch = input_sentences[i : i + BATCH_SIZE]\n",
    "\n",
    "        # Preprocess the batch and extract entity mappings\n",
    "        batch = ip.preprocess_batch(batch, src_lang=src_lang, tgt_lang=tgt_lang)\n",
    "\n",
    "        # Tokenize the batch and generate input encodings\n",
    "        inputs = tokenizer(\n",
    "            batch,\n",
    "            src=True,\n",
    "            truncation=True,\n",
    "            padding=\"longest\",\n",
    "            return_tensors=\"pt\",\n",
    "            return_attention_mask=True,\n",
    "        ).to(DEVICE)\n",
    "\n",
    "        # Generate translations using the model\n",
    "        with torch.no_grad():\n",
    "            generated_tokens = model.generate(\n",
    "                **inputs,\n",
    "                use_cache=True,\n",
    "                min_length=0,\n",
    "                max_length=256,\n",
    "                num_beams=5,\n",
    "                num_return_sequences=1,\n",
    "            )\n",
    "\n",
    "        # Decode the generated tokens into text\n",
    "        generated_tokens = tokenizer.batch_decode(generated_tokens.detach().cpu().tolist(), src=False)\n",
    "\n",
    "        # Postprocess the translations, including entity replacement\n",
    "        translations += ip.postprocess_batch(generated_tokens, lang=tgt_lang)\n",
    "\n",
    "        del inputs\n",
    "        torch.cuda.empty_cache()\n",
    "\n",
    "    return translations"
   ]
  },
  {
   "cell_type": "code",
   "execution_count": 3,
   "metadata": {},
   "outputs": [
    {
     "name": "stderr",
     "output_type": "stream",
     "text": [
      "/tmp/ipykernel_31876/2021851695.py:17: DeprecationWarning: This IndicTransTokenizer is deprecated.\n",
      "The official Tokenizer is available on HF and can be used as follows:\n",
      "```\n",
      "from transformers import AutoTokenizer\n",
      "tokenizer = AutoTokenizer.from_pretrained(model_name)\n",
      "```\n",
      "  tokenizer = IndicTransTokenizer(direction=direction)\n",
      "/tmp/ipykernel_31876/2021851695.py:17: DeprecationWarning: This IndicTransTokenizer is deprecated.\n",
      "The official Tokenizer is available on HF and can be used as follows:\n",
      "```\n",
      "from transformers import AutoTokenizer\n",
      "tokenizer = AutoTokenizer.from_pretrained(model_name)\n",
      "```\n",
      "  tokenizer = IndicTransTokenizer(direction=direction)\n"
     ]
    }
   ],
   "source": [
    "en_indic_ckpt_dir1 = \"ai4bharat/indictrans2-en-indic-dist-200M\"\n",
    "en_indic_tokenizer1, en_indic_model1 = initialize_model_and_tokenizer(en_indic_ckpt_dir1, \"en-indic\",\"4-bit\" )\n",
    "indic_en_ckpt_dir = \"ai4bharat/indictrans2-indic-en-dist-200M\"  # ai4bharat/indictrans2-indic-en-dist-200M\n",
    "indic_en_tokenizer, indic_en_model = initialize_model_and_tokenizer(indic_en_ckpt_dir, \"indic-en\", \"4-bit\")"
   ]
  },
  {
   "cell_type": "code",
   "execution_count": 4,
   "metadata": {},
   "outputs": [],
   "source": [
    "import time"
   ]
  },
  {
   "cell_type": "code",
   "execution_count": 5,
   "metadata": {},
   "outputs": [
    {
     "name": "stdout",
     "output_type": "stream",
     "text": [
      "\n",
      "eng_Latn - hin_Deva\n",
      "eng_Latn: When I was young, I used to go to the park every day. \n",
      "hin_Deva: जब मैं छोटा था, मैं हर दिन पार्क जाता था।\n",
      "eng_Latn: He has many old books, which he inherited from his ancestors. \n",
      "hin_Deva: उनके पास कई पुरानी किताबें हैं, जो उन्हें अपने पूर्वजों से विरासत में मिली हैं।\n",
      "eng_Latn: I can't figure out how to solve my problem. \n",
      "hin_Deva: मुझे समझ नहीं आ रहा है कि मेरी समस्या का समाधान कैसे किया जाए।\n",
      "eng_Latn: She is very hardworking and intelligent, which is why she got all the good marks. \n",
      "hin_Deva: वह बहुत मेहनती और बुद्धिमान हैं, यही कारण है कि उन्हें सभी अच्छे अंक मिले।\n",
      "eng_Latn: We watched a new movie last week, which was very inspiring.\n",
      "hin_Deva: हमने पिछले हफ्ते एक नई फिल्म देखी, जो बहुत प्रेरणादायक थी।\n",
      "eng_Latn: If you had met me at that time, we would have gone out to eat.\n",
      "hin_Deva: अगर आप मुझसे उस समय मिले होते तो हम बाहर खाना खाने जाते।\n",
      "eng_Latn: She went to the market with her sister to buy a new sari.\n",
      "hin_Deva: वह अपनी बहन के साथ नई साड़ी खरीदने के लिए बाजार गई।\n",
      "eng_Latn: Raj told me that he is going to his grandmother's house next month.\n",
      "hin_Deva: राज ने मुझे बताया कि वह अगले महीने अपनी दादी के घर जा रहे हैं।\n",
      "eng_Latn: All the kids were having fun at the party and were eating lots of sweets.\n",
      "hin_Deva: पार्टी में सभी बच्चे मस्ती कर रहे थे और खूब मिठाइयां खा रहे थे।\n",
      "eng_Latn: My friend has invited me to his birthday party, and I will give him a gift.\n",
      "hin_Deva: मेरे दोस्त ने मुझे अपने जन्मदिन की पार्टी में आमंत्रित किया है, और मैं उसे एक उपहार दूंगा।\n",
      "Time taken: 8.487280 seconds\n"
     ]
    }
   ],
   "source": [
    "st=time.time()\n",
    "\n",
    "\n",
    "ip = IndicProcessor(inference=True)\n",
    "\n",
    "en_sents = [\n",
    "    \"When I was young, I used to go to the park every day. \",\n",
    "     \"He has many old books, which he inherited from his ancestors. \",\n",
    "     \"I can't figure out how to solve my problem. \",\n",
    "     \"She is very hardworking and intelligent, which is why she got all the good marks. \",\n",
    "    \"We watched a new movie last week, which was very inspiring.\",\n",
    "    \"If you had met me at that time, we would have gone out to eat.\",\n",
    "    \"She went to the market with her sister to buy a new sari.\",\n",
    "    \"Raj told me that he is going to his grandmother's house next month.\",\n",
    "    \"All the kids were having fun at the party and were eating lots of sweets.\",\n",
    "    \"My friend has invited me to his birthday party, and I will give him a gift.\",\n",
    "]\n",
    "\n",
    "src_lang, tgt_lang = \"eng_Latn\", \"hin_Deva\"\n",
    "hi_translations = batch_translate(en_sents, src_lang, tgt_lang, en_indic_model1, en_indic_tokenizer1, ip)\n",
    "\n",
    "print(f\"\\n{src_lang} - {tgt_lang}\")\n",
    "for input_sentence, translation in zip(en_sents, hi_translations):\n",
    "    print(f\"{src_lang}: {input_sentence}\")\n",
    "    print(f\"{tgt_lang}: {translation}\")\n",
    "et=time.time()\n",
    "tt=et-st\n",
    "\n",
    "print(f\"Time taken: {tt:.6f} seconds\")\n",
    "# flush the models to free the GPU memory\n",
    "#del en_indic_tokenizer, en_indic_model"
   ]
  },
  {
   "cell_type": "code",
   "execution_count": 6,
   "metadata": {},
   "outputs": [
    {
     "name": "stdout",
     "output_type": "stream",
     "text": [
      "\n",
      "hin_Deva - eng_Latn\n",
      "hin_Deva: जब मैं छोटा था, मैं हर रोज़ पार्क जाता था।\n",
      "eng_Latn: When I was a kid, I used to go to the park every day.\n",
      "hin_Deva: उसके पास बहुत सारी पुरानी किताबें हैं, जिन्हें उसने अपने दादा-परदादा से विरासत में पाया।\n",
      "eng_Latn: She has a lot of old books, which she inherited from her grandparents.\n",
      "hin_Deva: मुझे समझ में नहीं आ रहा कि मैं अपनी समस्या का समाधान कैसे ढूंढूं।\n",
      "eng_Latn: I don't know how to find a solution to my problem.\n",
      "hin_Deva: वह बहुत मेहनती और समझदार है, इसलिए उसे सभी अच्छे मार्क्स मिले।\n",
      "eng_Latn: He is very hardworking and sensible, so he got all the good marks.\n",
      "hin_Deva: हमने पिछले सप्ताह एक नई फिल्म देखी जो कि बहुत प्रेरणादायक थी।\n",
      "eng_Latn: We saw a new film last week which was very inspiring.\n",
      "hin_Deva: अगर तुम मुझे उस समय पास मिलते, तो हम बाहर खाना खाने चलते।\n",
      "eng_Latn: If you meet me at that time, we go out to eat.\n",
      "hin_Deva: वह अपनी दीदी के साथ बाजार गयी थी ताकि वह नई साड़ी खरीद सके।\n",
      "eng_Latn: She had gone to the market with her sister-in-law so that she could buy a new saree.\n",
      "hin_Deva: राज ने मुझसे कहा कि वह अगले महीने अपनी नानी के घर जा रहा है।\n",
      "eng_Latn: Raj told me that he is going to his grandmother's house next month.\n",
      "hin_Deva: सभी बच्चे पार्टी में मज़ा कर रहे थे और खूब सारी मिठाइयाँ खा रहे थे।\n",
      "eng_Latn: All the children were having fun at the party and eating lots of sweets.\n",
      "hin_Deva: मेरे मित्र ने मुझे उसके जन्मदिन की पार्टी में बुलाया है, और मैं उसे एक तोहफा दूंगा।\n",
      "eng_Latn: My friend has invited me to her birthday party, and I will give her a gift.\n",
      "Time taken: 3.112588 seconds\n"
     ]
    }
   ],
   "source": [
    "\n",
    "st=time.time()\n",
    "hi_sents = [\n",
    "    \"जब मैं छोटा था, मैं हर रोज़ पार्क जाता था।\",\n",
    "    \"उसके पास बहुत सारी पुरानी किताबें हैं, जिन्हें उसने अपने दादा-परदादा से विरासत में पाया।\",\n",
    "    \"मुझे समझ में नहीं आ रहा कि मैं अपनी समस्या का समाधान कैसे ढूंढूं।\",\n",
    "    \"वह बहुत मेहनती और समझदार है, इसलिए उसे सभी अच्छे मार्क्स मिले।\",\n",
    "    \"हमने पिछले सप्ताह एक नई फिल्म देखी जो कि बहुत प्रेरणादायक थी।\",\n",
    "    \"अगर तुम मुझे उस समय पास मिलते, तो हम बाहर खाना खाने चलते।\",\n",
    "    \"वह अपनी दीदी के साथ बाजार गयी थी ताकि वह नई साड़ी खरीद सके।\",\n",
    "    \"राज ने मुझसे कहा कि वह अगले महीने अपनी नानी के घर जा रहा है।\",\n",
    "    \"सभी बच्चे पार्टी में मज़ा कर रहे थे और खूब सारी मिठाइयाँ खा रहे थे।\",\n",
    "    \"मेरे मित्र ने मुझे उसके जन्मदिन की पार्टी में बुलाया है, और मैं उसे एक तोहफा दूंगा।\",\n",
    "]\n",
    "src_lang, tgt_lang = \"hin_Deva\", \"eng_Latn\"\n",
    "en_translations = batch_translate(hi_sents, src_lang, tgt_lang, indic_en_model, indic_en_tokenizer, ip)\n",
    "\n",
    "\n",
    "print(f\"\\n{src_lang} - {tgt_lang}\")\n",
    "for input_sentence, translation in zip(hi_sents, en_translations):\n",
    "    print(f\"{src_lang}: {input_sentence}\")\n",
    "    print(f\"{tgt_lang}: {translation}\")\n",
    "et=time.time()\n",
    "tt=et-st\n",
    "print(f\"Time taken: {tt:.6f} seconds\")\n",
    "# flush the models to free the GPU memory\n",
    "# del indic_en_tokenizer, indic_en_model"
   ]
  },
  {
   "cell_type": "code",
   "execution_count": 1,
   "metadata": {},
   "outputs": [
    {
     "data": {
      "text/plain": [
       "['asdffadfadfs', 'adfsfafdasFDasfd']"
      ]
     },
     "execution_count": 1,
     "metadata": {},
     "output_type": "execute_result"
    }
   ],
   "source": [
    "\"asdffadfadfs.adfsfafdasFDasfd\".split(\".\")"
   ]
  },
  {
   "cell_type": "code",
   "execution_count": 26,
   "metadata": {},
   "outputs": [],
   "source": [
    "def translate(text,in_lang,out_lang):\n",
    "\n",
    "    lang={\"en-IN\":\"eng_Latn\",\"hi-IN\":\"hin_Deva\",\"kn-IN\":\"kan_Knda\",\"bn-IN\":\"ben_Beng\"}\n",
    "    in_lang=lang[in_lang]\n",
    "    out_lang=lang[out_lang]\n",
    "    if in_lang==\"eng_Latn\":\n",
    "        text_split=text.split(\".\")\n",
    "        out=[]\n",
    "        for i in text_split:\n",
    "            if i!=\".\":\n",
    "                out.append(i)\n",
    "        out.remove(\"\")\n",
    "        return \"\".join(batch_translate(out, in_lang, out_lang, en_indic_model1, en_indic_tokenizer1, ip))\n",
    "        \n",
    "    else:\n",
    "        if in_lang==\"hi-IN\":\n",
    "            text_split=text.split(\"।\")\n",
    "            out=[]\n",
    "            for i in text_split:\n",
    "                if i!=\"।\":\n",
    "                    out.append(i)\n",
    "            out=list(filter(\"\",out))\n",
    "            out.remove(\"\")\n",
    "            return \"\".join(batch_translate(out, in_lang, out_lang, indic_en_model, indic_en_tokenizer, ip))"
   ]
  },
  {
   "cell_type": "code",
   "execution_count": 27,
   "metadata": {},
   "outputs": [
    {
     "data": {
      "text/plain": [
       "'पक्षी, 10,000 से अधिक प्रजातियों को शामिल करते हुए, उल्लेखनीय विविधता और अनुकूलन क्षमता का प्रदर्शन करते हैं, जो शुष्क रेगिस्तान से लेकर बर्फीले ध्रुवीय क्षेत्रों तक के वातावरण में फलते-फूलते हैं।उनके रूप तोते और मोर के जीवंत पंखों से लेकर बाज़ों और बाज़ों के सुव्यवस्थित शरीर तक हैं।आर्कटिक टर्न जैसे पक्षी हजारों मील तक फैले महाकाव्य प्रवास करते हैं, जबकि सम्राट पेंगुइन सहकारी भीड़ के माध्यम से कठोर अंटार्कटिक सर्दियों को सहन करते हैं।एवियन गायन नाइटिंगेल्स के मधुर गीतों से लेकर लाइरेबर्ड की जटिल नकल तक भिन्न होते हैं, और उनके आहार में अमृत-फीडिंग हमिंगबर्ड से लेकर हिंसक चील तक शामिल हैं।पक्षी परागणकों, बीज फैलावकों और कीट नियंत्रकों के रूप में महत्वपूर्ण पारिस्थितिक भूमिका निभाते हैं।अपने लचीलेपन के बावजूद, कई लोगों को निवास स्थान के नुकसान, जलवायु परिवर्तन और प्रदूषण के खतरों का सामना करना पड़ता है, जिससे संरक्षण महत्वपूर्ण हो जाता हैउपग्रह ट्रैकिंग और बायोएकॉस्टिक्स जैसी प्रौद्योगिकियों का उपयोग करते हुए पक्षी विज्ञान में प्रगति, उनके व्यवहार और प्रवास में आकर्षक अंतर्दृष्टि को प्रकट करती है, जो आने वाली पीढ़ियों के लिए इन अविश्वसनीय प्राणियों को संरक्षित करने के महत्व को रेखांकित करती है।'"
      ]
     },
     "execution_count": 27,
     "metadata": {},
     "output_type": "execute_result"
    }
   ],
   "source": [
    "translate(\"Birds, encompassing over 10,000 species, exhibit remarkable diversity and adaptability, thriving in environments from arid deserts to icy polar regions. Their forms range from the vivid plumage of parrots and peacocks to the streamlined bodies of falcons and hawks. Birds like the Arctic Tern undertake epic migrations spanning thousands of miles, while Emperor Penguins endure the harsh Antarctic winter through cooperative huddling. Avian vocalizations vary from the melodic songs of nightingales to the intricate mimicry of lyrebirds, and their diets range from nectar-feeding hummingbirds to predatory eagles. Birds play crucial ecological roles as pollinators, seed dispersers, and pest controllers. Despite their resilience, many face threats from habitat loss, climate change, and pollution, making conservation vital. Advances in ornithology, utilizing technologies like satellite tracking and bioacoustics, continue to reveal fascinating insights into their behaviors and migrations, underscoring the importance of preserving these incredible creatures for future generations.\",\"en-IN\",\"hi-IN\")"
   ]
  },
  {
   "cell_type": "code",
   "execution_count": null,
   "metadata": {},
   "outputs": [],
   "source": []
  }
 ],
 "metadata": {
  "kernelspec": {
   "display_name": "base",
   "language": "python",
   "name": "python3"
  },
  "language_info": {
   "codemirror_mode": {
    "name": "ipython",
    "version": 3
   },
   "file_extension": ".py",
   "mimetype": "text/x-python",
   "name": "python",
   "nbconvert_exporter": "python",
   "pygments_lexer": "ipython3",
   "version": "3.12.2"
  }
 },
 "nbformat": 4,
 "nbformat_minor": 2
}
